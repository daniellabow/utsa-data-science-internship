{
 "cells": [
  {
   "cell_type": "code",
   "execution_count": 3,
   "id": "2801c423",
   "metadata": {},
   "outputs": [],
   "source": [
    "import numpy as np\n",
    "import pandas as pd\n",
    "import os"
   ]
  },
  {
   "cell_type": "code",
   "execution_count": 4,
   "id": "d978d5f8",
   "metadata": {},
   "outputs": [],
   "source": [
    "url = \"https://raw.githubusercontent.com/datasciencedojo/datasets/refs/heads/master/titanic.csv\"\n",
    "titanic_df = pd.read_csv(url)"
   ]
  },
  {
   "cell_type": "code",
   "execution_count": 5,
   "id": "faf9f609",
   "metadata": {},
   "outputs": [],
   "source": [
    "for dirname, _, filenames in os.walk(url):\n",
    "    for filename in filenames:\n",
    "        print(os.path.join(dirname, filename))\n"
   ]
  },
  {
   "cell_type": "code",
   "execution_count": 6,
   "id": "a4b00bf5",
   "metadata": {},
   "outputs": [
    {
     "name": "stdout",
     "output_type": "stream",
     "text": [
      "   PassengerId  Survived  Pclass  \\\n",
      "0            1         0       3   \n",
      "1            2         1       1   \n",
      "2            3         1       3   \n",
      "3            4         1       1   \n",
      "4            5         0       3   \n",
      "\n",
      "                                                Name     Sex   Age  SibSp  \\\n",
      "0                            Braund, Mr. Owen Harris    male  22.0      1   \n",
      "1  Cumings, Mrs. John Bradley (Florence Briggs Th...  female  38.0      1   \n",
      "2                             Heikkinen, Miss. Laina  female  26.0      0   \n",
      "3       Futrelle, Mrs. Jacques Heath (Lily May Peel)  female  35.0      1   \n",
      "4                           Allen, Mr. William Henry    male  35.0      0   \n",
      "\n",
      "   Parch            Ticket     Fare Cabin Embarked  \n",
      "0      0         A/5 21171   7.2500   NaN        S  \n",
      "1      0          PC 17599  71.2833   C85        C  \n",
      "2      0  STON/O2. 3101282   7.9250   NaN        S  \n",
      "3      0            113803  53.1000  C123        S  \n",
      "4      0            373450   8.0500   NaN        S  \n"
     ]
    }
   ],
   "source": [
    "# infile =open(url)\n",
    "# lines = infile.readlines()\n",
    "\n",
    "# print(type(lines))\n",
    "# print(lines)\n",
    "# print(lines.split('\\n'))\n",
    "print(titanic_df.head())"
   ]
  },
  {
   "cell_type": "code",
   "execution_count": 7,
   "id": "bc78cd77",
   "metadata": {},
   "outputs": [
    {
     "name": "stdout",
     "output_type": "stream",
     "text": [
      "<class 'pandas.core.frame.DataFrame'>\n",
      "RangeIndex: 891 entries, 0 to 890\n",
      "Data columns (total 12 columns):\n",
      " #   Column       Non-Null Count  Dtype  \n",
      "---  ------       --------------  -----  \n",
      " 0   PassengerId  891 non-null    int64  \n",
      " 1   Survived     891 non-null    int64  \n",
      " 2   Pclass       891 non-null    int64  \n",
      " 3   Name         891 non-null    object \n",
      " 4   Sex          891 non-null    object \n",
      " 5   Age          714 non-null    float64\n",
      " 6   SibSp        891 non-null    int64  \n",
      " 7   Parch        891 non-null    int64  \n",
      " 8   Ticket       891 non-null    object \n",
      " 9   Fare         891 non-null    float64\n",
      " 10  Cabin        204 non-null    object \n",
      " 11  Embarked     889 non-null    object \n",
      "dtypes: float64(2), int64(5), object(5)\n",
      "memory usage: 83.7+ KB\n",
      "<class 'pandas.core.frame.DataFrame'>\n"
     ]
    }
   ],
   "source": [
    "titanic_df.info()\n",
    "titanic_df.describe()\n",
    "print(type(titanic_df))"
   ]
  },
  {
   "cell_type": "code",
   "execution_count": 8,
   "id": "414e63c5",
   "metadata": {},
   "outputs": [],
   "source": [
    "titanic_df.tail()\n",
    "ages = titanic_df[\"Age\"]\n",
    "ages.min()\n",
    "columns = [\"Age\", \"Sex\"]\n",
    "age_sex = titanic_df[columns]\n",
    "#under_25 = titanic_df[\"Age\"] < 25\n",
    "people_1_2 = titanic_df[\"Pclass\"].isin([1,2])\n",
    "people_1_2\n",
    "under_25 = titanic_df[(titanic_df[\"Pclass\"] == 1) | (titanic_df[\"Pclass\"] == 2) & (titanic_df[\"Age\"] <25)]\n"
   ]
  },
  {
   "cell_type": "code",
   "execution_count": 9,
   "id": "413cff4f",
   "metadata": {},
   "outputs": [],
   "source": [
    "titanic_clean_df = titanic_df\n",
    "titanic_clean_df.isnull().sum()\n",
    "\n",
    "titanic_clean_df.drop(\"Cabin\", axis=1, inplace=True) #axis 0 is row and axis 1 is column\n",
    "\n",
    "titanic_clean_df[\"Age\"].describe()\n",
    "titanic_clean_df[\"Age\"] = titanic_clean_df[\"Age\"].fillna(29.6)\n",
    "\n",
    "columns = [\"Age\", \"Sex\"]\n",
    "titanic_clean_df[columns]\n",
    "\n",
    "titanic_clean_df_new = titanic_clean_df"
   ]
  },
  {
   "cell_type": "code",
   "execution_count": 10,
   "id": "906dab75",
   "metadata": {},
   "outputs": [
    {
     "name": "stdout",
     "output_type": "stream",
     "text": [
      "     PassengerId  Survived  Pclass  \\\n",
      "0              1         0       3   \n",
      "1              2         1       1   \n",
      "2              3         1       3   \n",
      "3              4         1       1   \n",
      "4              5         0       3   \n",
      "..           ...       ...     ...   \n",
      "886          887         0       2   \n",
      "887          888         1       1   \n",
      "888          889         0       3   \n",
      "889          890         1       1   \n",
      "890          891         0       3   \n",
      "\n",
      "                                                  Name     Sex   Age  SibSp  \\\n",
      "0                              Braund, Mr. Owen Harris    male  22.0      1   \n",
      "1    Cumings, Mrs. John Bradley (Florence Briggs Th...  female  38.0      1   \n",
      "2                               Heikkinen, Miss. Laina  female  26.0      0   \n",
      "3         Futrelle, Mrs. Jacques Heath (Lily May Peel)  female  35.0      1   \n",
      "4                             Allen, Mr. William Henry    male  35.0      0   \n",
      "..                                                 ...     ...   ...    ...   \n",
      "886                              Montvila, Rev. Juozas    male  27.0      0   \n",
      "887                       Graham, Miss. Margaret Edith  female  19.0      0   \n",
      "888           Johnston, Miss. Catherine Helen \"Carrie\"  female  29.6      1   \n",
      "889                              Behr, Mr. Karl Howell    male  26.0      0   \n",
      "890                                Dooley, Mr. Patrick    male  32.0      0   \n",
      "\n",
      "     Parch            Ticket     Fare Embarked  \n",
      "0        0         A/5 21171   7.2500        S  \n",
      "1        0          PC 17599  71.2833        C  \n",
      "2        0  STON/O2. 3101282   7.9250        S  \n",
      "3        0            113803  53.1000        S  \n",
      "4        0            373450   8.0500        S  \n",
      "..     ...               ...      ...      ...  \n",
      "886      0            211536  13.0000        S  \n",
      "887      0            112053  30.0000        S  \n",
      "888      2        W./C. 6607  23.4500        S  \n",
      "889      0            111369  30.0000        C  \n",
      "890      0            370376   7.7500        Q  \n",
      "\n",
      "[891 rows x 11 columns]\n"
     ]
    }
   ],
   "source": [
    "print(titanic_clean_df_new)\n"
   ]
  },
  {
   "cell_type": "code",
   "execution_count": 11,
   "id": "aded4d0c",
   "metadata": {},
   "outputs": [],
   "source": [
    "cleaned_chain = (\n",
    "titanic_clean_df_new.dropna(subset=\"Age\")\n",
    "    [[\"PassengerId\", \"Age\", \"Embarked\", \"Fare\", \"Pclass\"]]\n",
    "    .sort_values(by=\"Fare\")\n",
    "    )\n"
   ]
  },
  {
   "cell_type": "code",
   "execution_count": 12,
   "id": "6e993564",
   "metadata": {},
   "outputs": [
    {
     "name": "stdout",
     "output_type": "stream",
     "text": [
      "Data after method chaining:\n",
      "      PassengerId   Age Embarked      Fare  Pclass\n",
      "815          816  29.6        S    0.0000       1\n",
      "806          807  39.0        S    0.0000       1\n",
      "413          414  29.6        S    0.0000       2\n",
      "481          482  29.6        S    0.0000       2\n",
      "302          303  19.0        S    0.0000       3\n",
      "..           ...   ...      ...       ...     ...\n",
      "438          439  64.0        S  263.0000       1\n",
      "341          342  24.0        S  263.0000       1\n",
      "737          738  35.0        C  512.3292       1\n",
      "679          680  36.0        C  512.3292       1\n",
      "258          259  35.0        C  512.3292       1\n",
      "\n",
      "[891 rows x 5 columns]\n",
      "DF WITHOUT AGE COLUMN!!!!!!!!!!!!\n",
      "     PassengerId  Survived  Pclass  \\\n",
      "0              1         0       3   \n",
      "1              2         1       1   \n",
      "2              3         1       3   \n",
      "3              4         1       1   \n",
      "4              5         0       3   \n",
      "..           ...       ...     ...   \n",
      "886          887         0       2   \n",
      "887          888         1       1   \n",
      "888          889         0       3   \n",
      "889          890         1       1   \n",
      "890          891         0       3   \n",
      "\n",
      "                                                  Name     Sex   Age  SibSp  \\\n",
      "0                              Braund, Mr. Owen Harris    male  22.0      1   \n",
      "1    Cumings, Mrs. John Bradley (Florence Briggs Th...  female  38.0      1   \n",
      "2                               Heikkinen, Miss. Laina  female  26.0      0   \n",
      "3         Futrelle, Mrs. Jacques Heath (Lily May Peel)  female  35.0      1   \n",
      "4                             Allen, Mr. William Henry    male  35.0      0   \n",
      "..                                                 ...     ...   ...    ...   \n",
      "886                              Montvila, Rev. Juozas    male  27.0      0   \n",
      "887                       Graham, Miss. Margaret Edith  female  19.0      0   \n",
      "888           Johnston, Miss. Catherine Helen \"Carrie\"  female  29.6      1   \n",
      "889                              Behr, Mr. Karl Howell    male  26.0      0   \n",
      "890                                Dooley, Mr. Patrick    male  32.0      0   \n",
      "\n",
      "     Parch            Ticket     Fare Embarked  \n",
      "0        0         A/5 21171   7.2500        S  \n",
      "1        0          PC 17599  71.2833        C  \n",
      "2        0  STON/O2. 3101282   7.9250        S  \n",
      "3        0            113803  53.1000        S  \n",
      "4        0            373450   8.0500        S  \n",
      "..     ...               ...      ...      ...  \n",
      "886      0            211536  13.0000        S  \n",
      "887      0            112053  30.0000        S  \n",
      "888      2        W./C. 6607  23.4500        S  \n",
      "889      0            111369  30.0000        C  \n",
      "890      0            370376   7.7500        Q  \n",
      "\n",
      "[891 rows x 11 columns]\n"
     ]
    }
   ],
   "source": [
    "print(\"Data after method chaining:\\n\", cleaned_chain)\n",
    "print(\"DF WITHOUT AGE COLUMN!!!!!!!!!!!!\")\n",
    "\n",
    "print(titanic_clean_df_new)"
   ]
  },
  {
   "cell_type": "code",
   "execution_count": 13,
   "id": "83b3d81a",
   "metadata": {},
   "outputs": [],
   "source": [
    "def rename_pclass(df):\n",
    "    mapping = {\"First\":1, \"Second\":2, \"Third\":3}\n",
    "    df = df.copy\n",
    "    return df"
   ]
  },
  {
   "cell_type": "code",
   "execution_count": 14,
   "id": "921ef8c4",
   "metadata": {},
   "outputs": [],
   "source": [
    "cleaned_pipeline = (\n",
    "    #.pipe(rename_pclass)\n",
    "    [[\"PassengerId\", \"Age\", \"Embarked\", \"Fare\", \"Pclass\"]]\n",
    "    #.sort_values(by=\"Fare\")\n",
    ")\n"
   ]
  },
  {
   "cell_type": "code",
   "execution_count": 15,
   "id": "99f94eb6",
   "metadata": {},
   "outputs": [
    {
     "name": "stdout",
     "output_type": "stream",
     "text": [
      "Data after method chaining:\n",
      " [['PassengerId', 'Age', 'Embarked', 'Fare', 'Pclass']]\n"
     ]
    }
   ],
   "source": [
    "print(\"Data after method chaining:\\n\", cleaned_pipeline)"
   ]
  }
 ],
 "metadata": {
  "kernelspec": {
   "display_name": ".venv",
   "language": "python",
   "name": "python3"
  },
  "language_info": {
   "codemirror_mode": {
    "name": "ipython",
    "version": 3
   },
   "file_extension": ".py",
   "mimetype": "text/x-python",
   "name": "python",
   "nbconvert_exporter": "python",
   "pygments_lexer": "ipython3",
   "version": "3.9.13"
  }
 },
 "nbformat": 4,
 "nbformat_minor": 5
}
